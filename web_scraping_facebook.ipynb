{
 "cells": [
  {
   "cell_type": "code",
   "execution_count": 47,
   "id": "0439a4c8",
   "metadata": {},
   "outputs": [],
   "source": [
    "import requests\n",
    "from facebook_scraper import get_posts\n",
    "\n",
    "import pandas as pd\n",
    "from datetime import date"
   ]
  },
  {
   "cell_type": "code",
   "execution_count": 8,
   "id": "9b3ca39d",
   "metadata": {},
   "outputs": [
    {
     "name": "stdout",
     "output_type": "stream",
     "text": [
      "Escriba nombre único de cuenta a analizar:\n",
      "mercantilbancooficial\n",
      "Escriba cantidad de pag a a extraer información:\n",
      "1\n"
     ]
    }
   ],
   "source": [
    "cuenta = str(input('Escriba nombre único de cuenta a analizar:\\n'))\n",
    "paginas = int(input('Escriba cantidad de pag a a extraer información:\\n'))"
   ]
  },
  {
   "cell_type": "code",
   "execution_count": 10,
   "id": "c24ae4d1",
   "metadata": {},
   "outputs": [],
   "source": [
    "def extraer():\n",
    "    posts = []\n",
    "    for post in get_posts(cuenta, pages=paginas, options={\"comments\": True}):\n",
    "        posts.append(post)\n",
    "    return posts"
   ]
  },
  {
   "cell_type": "code",
   "execution_count": null,
   "id": "de78d02a",
   "metadata": {},
   "outputs": [],
   "source": [
    "posts = extraer()\n"
   ]
  },
  {
   "cell_type": "code",
   "execution_count": 39,
   "id": "81cea49a",
   "metadata": {},
   "outputs": [
    {
     "name": "stdout",
     "output_type": "stream",
     "text": [
      "Verifique si la cantidad de post corresponde a la que requiere \n",
      "Esta es la cantidad de post extraidos:\n",
      "2\n",
      "Si quiere ajustar la cantidad de paginas a revisar escriba \"s\"\n",
      "n\n"
     ]
    }
   ],
   "source": [
    "print('Verifique si la cantidad de post corresponde a la que requiere \\nEsta es la cantidad de post extraidos:')\n",
    "print(len(posts)) # cantidad de post extraidos \n",
    "aux = input('Si quiere ajustar la cantidad de paginas a revisar escriba \"s\"\\n')\n",
    "while aux == 's' or aux=='S':\n",
    "    paginas = int(input('Escriba cantidad de pag a a extraer información:\\n'))\n",
    "    posts = extraer()\n",
    "    aux = input('Si quiere ajustar la cantidad de paginas a revisar escriba \"s\"\\n')\n"
   ]
  },
  {
   "cell_type": "code",
   "execution_count": 15,
   "id": "ca928161",
   "metadata": {},
   "outputs": [],
   "source": [
    "df1 = pd.DataFrame(posts)"
   ]
  },
  {
   "cell_type": "code",
   "execution_count": 16,
   "id": "f583ff7b",
   "metadata": {},
   "outputs": [],
   "source": [
    "tabla_general = df1[['username','post_id','time','post_text','likes','comments','shares','video','image']]"
   ]
  },
  {
   "cell_type": "code",
   "execution_count": 18,
   "id": "be1e4e0e",
   "metadata": {},
   "outputs": [],
   "source": [
    "today = date.today()"
   ]
  },
  {
   "cell_type": "code",
   "execution_count": 22,
   "id": "4d83b9ec",
   "metadata": {},
   "outputs": [
    {
     "name": "stdout",
     "output_type": "stream",
     "text": [
      "Creada tabla general de informacion de todos los posts extraidos\n",
      "\n"
     ]
    }
   ],
   "source": [
    "tabla_general.to_excel('tabla_general.xlsx')\n",
    "print(\"Creada tabla general de informacion de todos los posts extraidos\\n\")"
   ]
  },
  {
   "cell_type": "code",
   "execution_count": 33,
   "id": "ec0c341b",
   "metadata": {},
   "outputs": [
    {
     "name": "stdout",
     "output_type": "stream",
     "text": [
      "Escriba nro de post del que desea extraer comentarios \n",
      "Recuerde que se empiezan a contar desde el nro 0\n",
      "0\n"
     ]
    }
   ],
   "source": [
    "select = int(input('Escriba nro de post del que desea extraer comentarios \\nRecuerde que se empiezan a contar desde el nro 0\\n'))\n"
   ]
  },
  {
   "cell_type": "code",
   "execution_count": 37,
   "id": "9b0309b7",
   "metadata": {},
   "outputs": [
    {
     "name": "stdout",
     "output_type": "stream",
     "text": [
      "Verificar información del post:\n",
      "\n",
      "fecha de publicación 2022-02-09 10:16:20\n",
      "post id 2999631543683830\n"
     ]
    }
   ],
   "source": [
    "print('Verificar información del post:\\n')\n",
    "print('fecha de publicación',posts[select][\"time\"])\n",
    "print('post id', posts[select]['post_id'])"
   ]
  },
  {
   "cell_type": "code",
   "execution_count": 38,
   "id": "45ee0fb7",
   "metadata": {},
   "outputs": [
    {
     "name": "stdout",
     "output_type": "stream",
     "text": [
      "Si se ha equivocado de post escriba \"s\"\n",
      "s\n",
      "Escriba nro de post del que desea extraer comentarios \n",
      "Recuerde que se empiezan a contar desde el nro 0\n",
      "1\n",
      "Verificar información del post:\n",
      "\n",
      "fecha de publicación 2022-02-07 10:01:38\n",
      "post id 2998235933823391\n",
      "Si se ha equivocado de post escriba \"s\"\n",
      "n\n"
     ]
    }
   ],
   "source": [
    "aux = input('Si se ha equivocado de post escriba \"s\"\\n')\n",
    "while aux == 's' or aux=='S':\n",
    "    select = int(input('Escriba nro de post del que desea extraer comentarios \\nRecuerde que se empiezan a contar desde el nro 0\\n'))\n",
    "    print('Verificar información del post:\\n')\n",
    "    print('fecha de publicación',posts[select][\"time\"])\n",
    "    print('post id', posts[select]['post_id'])\n",
    "    aux = input('Si se ha equivocado de post escriba \"s\"\\n')"
   ]
  },
  {
   "cell_type": "code",
   "execution_count": 42,
   "id": "9f5a1c58",
   "metadata": {},
   "outputs": [],
   "source": [
    "comentarios_pub_x = pd.DataFrame(df1['comments_full'][select])"
   ]
  },
  {
   "cell_type": "code",
   "execution_count": 52,
   "id": "73935932",
   "metadata": {},
   "outputs": [],
   "source": [
    "tabla_comentarios_x = comentarios_pub_x[['comment_id','commenter_name','comment_time','comment_reaction_count',\n",
    "                                         'comment_text']]"
   ]
  },
  {
   "cell_type": "code",
   "execution_count": 45,
   "id": "dd1888d4",
   "metadata": {},
   "outputs": [
    {
     "name": "stdout",
     "output_type": "stream",
     "text": [
      "\n",
      " Creada tabla de comentarios en post seleccionado\n"
     ]
    }
   ],
   "source": [
    "tabla_comentarios_x.to_excel('comentarios_pub_select.xlsx')\n",
    "print('\\n Creada tabla de comentarios en post seleccionado')"
   ]
  },
  {
   "cell_type": "code",
   "execution_count": 48,
   "id": "a504f43f",
   "metadata": {},
   "outputs": [],
   "source": [
    "f = open('pub_select.jpg','wb')\n",
    "response = requests.get(df1['image'][select])\n",
    "f.write(response.content) #guarda imagen\n",
    "f.close()"
   ]
  },
  {
   "cell_type": "code",
   "execution_count": 51,
   "id": "883be8e9",
   "metadata": {},
   "outputs": [
    {
     "name": "stdout",
     "output_type": "stream",
     "text": [
      "Imagen correspondiente al post ha sido descargada\n",
      "\n",
      "Todos los archivos se encuentran almacenados en este directorio como:\n",
      "\n",
      "Imagen: pub_select.jpg\n",
      "Tabla de posts: tabla_general.xlsx\n",
      "Tabla comentarios: comentarios_pub_select.xlsx\n"
     ]
    }
   ],
   "source": [
    "print('Imagen correspondiente al post ha sido descargada\\n')\n",
    "print('Todos los archivos se encuentran almacenados en este directorio como:\\n')\n",
    "print('Imagen: pub_select.jpg\\nTabla de posts: tabla_general.xlsx\\nTabla comentarios: comentarios_pub_select.xlsx')"
   ]
  },
  {
   "cell_type": "code",
   "execution_count": null,
   "id": "f7752340",
   "metadata": {},
   "outputs": [],
   "source": []
  }
 ],
 "metadata": {
  "kernelspec": {
   "display_name": "Python 3 (ipykernel)",
   "language": "python",
   "name": "python3"
  },
  "language_info": {
   "codemirror_mode": {
    "name": "ipython",
    "version": 3
   },
   "file_extension": ".py",
   "mimetype": "text/x-python",
   "name": "python",
   "nbconvert_exporter": "python",
   "pygments_lexer": "ipython3",
   "version": "3.9.6"
  }
 },
 "nbformat": 4,
 "nbformat_minor": 5
}
